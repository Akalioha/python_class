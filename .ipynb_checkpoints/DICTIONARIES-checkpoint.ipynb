{
 "cells": [
  {
   "cell_type": "code",
   "execution_count": 2,
   "id": "a6120434",
   "metadata": {},
   "outputs": [
    {
     "name": "stdout",
     "output_type": "stream",
     "text": [
      "['a', 'b', 'c']\n"
     ]
    }
   ],
   "source": [
    "a = [\"a\", \"b\", \"c\"]\n",
    "print (a)"
   ]
  },
  {
   "cell_type": "code",
   "execution_count": 3,
   "id": "abf385be",
   "metadata": {},
   "outputs": [
    {
     "name": "stdout",
     "output_type": "stream",
     "text": [
      "{'name': 'Tobi', 'age': 40, 'credit_score': 300}\n"
     ]
    }
   ],
   "source": [
    "a_dict = {\"name\": \"Tobi\" , \"age\": 40, \"credit_score\":300}\n",
    "print(a_dict)"
   ]
  },
  {
   "cell_type": "code",
   "execution_count": 4,
   "id": "1344f461",
   "metadata": {},
   "outputs": [
    {
     "name": "stdout",
     "output_type": "stream",
     "text": [
      "[{'name': 'emma', 'age': 10}, {'name': 'kate', 'age': 20}]\n"
     ]
    }
   ],
   "source": [
    "new_dict = [{\"name\": \"emma\", \"age\":10}, {\"name\": \"kate\", \"age\":20}]\n",
    "print(new_dict)"
   ]
  },
  {
   "cell_type": "code",
   "execution_count": 5,
   "id": "ec3863ae",
   "metadata": {},
   "outputs": [
    {
     "name": "stdout",
     "output_type": "stream",
     "text": [
      "{'name': 'Tobi', 'age': 40, 'credit_score': 300, 'marital_status': 'married'}\n"
     ]
    }
   ],
   "source": [
    "a_dict[\"marital_status\"] = \"married\"\n",
    "print(a_dict)"
   ]
  },
  {
   "cell_type": "code",
   "execution_count": 6,
   "id": "8d2d0e94",
   "metadata": {},
   "outputs": [
    {
     "data": {
      "text/plain": [
       "[{'name': 'emma', 'age': 10}, {'name': 'kate', 'age': 20}]"
      ]
     },
     "execution_count": 6,
     "metadata": {},
     "output_type": "execute_result"
    }
   ],
   "source": [
    "new_dict"
   ]
  },
  {
   "cell_type": "code",
   "execution_count": 7,
   "id": "dc97a261",
   "metadata": {},
   "outputs": [
    {
     "name": "stdout",
     "output_type": "stream",
     "text": [
      "{'name': 'emma', 'age': 10}\n",
      "{'name': 'kate', 'age': 20}\n"
     ]
    }
   ],
   "source": [
    "for i in new_dict:\n",
    "    print(i)"
   ]
  },
  {
   "cell_type": "code",
   "execution_count": 8,
   "id": "22dd94e1",
   "metadata": {},
   "outputs": [
    {
     "name": "stdout",
     "output_type": "stream",
     "text": [
      "[{'name': 'emma', 'age': 10, 'marital_status': 'married'}, {'name': 'kate', 'age': 20, 'marital_status': 'married'}]\n"
     ]
    }
   ],
   "source": [
    "for i in new_dict:\n",
    "    i[\"marital_status\"] = \"married\"\n",
    "print(new_dict)"
   ]
  },
  {
   "cell_type": "code",
   "execution_count": 9,
   "id": "567430e3",
   "metadata": {},
   "outputs": [
    {
     "name": "stdout",
     "output_type": "stream",
     "text": [
      "{'name': ['jakes', 'fibian', 'mathew'], 'score': [20, 30, 25], 'age': [15, 8, 10]}\n"
     ]
    }
   ],
   "source": [
    "class_results = {\"name\":[\"jakes\", \"fibian\", \"mathew\"],\n",
    "                \"score\": [20,30, 25],\n",
    "                \"age\": [15, 8, 10]}\n",
    "print(class_results)"
   ]
  },
  {
   "cell_type": "code",
   "execution_count": 16,
   "id": "c761b945",
   "metadata": {},
   "outputs": [
    {
     "name": "stdout",
     "output_type": "stream",
     "text": [
      "[{'name': 'dami', 'sales': 400}, {'name': 'kuro', 'sales': 320}, {'name': 'tobi', 'sales': 405}]\n"
     ]
    }
   ],
   "source": [
    "work_entry = [{\"name\":\"dami\", \"sales\":400},{\"name\":\"kuro\", \"sales\":320},{\"name\":\"tobi\",\"sales\":405} ]\n",
    "print(work_entry)"
   ]
  },
  {
   "cell_type": "code",
   "execution_count": 17,
   "id": "4c59eedd",
   "metadata": {},
   "outputs": [
    {
     "name": "stdout",
     "output_type": "stream",
     "text": [
      "[{'name': 'dami', 'sales': 400, 'salary': 1000}, {'name': 'kuro', 'sales': 320, 'salary': 1000}, {'name': 'tobi', 'sales': 405, 'salary': 1000}]\n"
     ]
    }
   ],
   "source": [
    "for i in work_entry:\n",
    "    i['salary'] = 1000\n",
    "    \n",
    "print (work_entry)"
   ]
  },
  {
   "cell_type": "code",
   "execution_count": 18,
   "id": "4e877786",
   "metadata": {},
   "outputs": [
    {
     "name": "stdout",
     "output_type": "stream",
     "text": [
      "{'name': 'dami', 'sales': 400, 'salary': 1000}\n",
      "{'name': 'kuro', 'sales': 320, 'salary': 1000}\n",
      "{'name': 'tobi', 'sales': 405, 'salary': 1000}\n"
     ]
    }
   ],
   "source": [
    "for k in work_entry:\n",
    "    print(k)"
   ]
  },
  {
   "cell_type": "code",
   "execution_count": 23,
   "id": "b81adf2f",
   "metadata": {},
   "outputs": [
    {
     "name": "stdout",
     "output_type": "stream",
     "text": [
      "{'name': 'dami', 'sales': 400, 'salary': 1000}\n",
      "{'name': 'tobi', 'sales': 405, 'salary': 1000}\n"
     ]
    }
   ],
   "source": [
    "for k in work_entry:\n",
    "    if k[\"sales\"] >= 400:\n",
    "        print(k)"
   ]
  },
  {
   "cell_type": "code",
   "execution_count": 38,
   "id": "423003bd",
   "metadata": {},
   "outputs": [
    {
     "name": "stdout",
     "output_type": "stream",
     "text": [
      "[{'name': 'dami', 'sales': 400, 'salary': 1331.0}, {'name': 'kuro', 'sales': 320, 'salary': 1000}, {'name': 'tobi', 'sales': 405, 'salary': 1331.0}]\n"
     ]
    }
   ],
   "source": [
    "for k in work_entry:\n",
    "    for a, b in k.items():\n",
    "        if k[\"sales\"] >=400:\n",
    "            k[\"salary\"] = k[\"salary\"] * 0.10 + k[\"salary\"]\n",
    "print (work_entry)"
   ]
  },
  {
   "cell_type": "code",
   "execution_count": 41,
   "id": "ae342d88",
   "metadata": {},
   "outputs": [
    {
     "name": "stdout",
     "output_type": "stream",
     "text": [
      "[{'name': 'dami', 'sales': 400, 'salary': 1331.0}, {'name': 'kuro', 'sales': 320, 'salary': 1000}, {'name': 'tobi', 'sales': 405, 'salary': 1331.0}]\n"
     ]
    }
   ],
   "source": [
    "print(work_entry)"
   ]
  },
  {
   "cell_type": "code",
   "execution_count": 42,
   "id": "8b70c431",
   "metadata": {},
   "outputs": [
    {
     "name": "stdout",
     "output_type": "stream",
     "text": [
      "dami\n",
      "400\n",
      "1331.0\n",
      "kuro\n",
      "320\n",
      "1000\n",
      "tobi\n",
      "405\n",
      "1331.0\n"
     ]
    }
   ],
   "source": [
    "for i in work_entry:\n",
    "    for a, b in i.items():\n",
    "        print(b)"
   ]
  },
  {
   "cell_type": "code",
   "execution_count": 43,
   "id": "33ad63b8",
   "metadata": {},
   "outputs": [
    {
     "name": "stdout",
     "output_type": "stream",
     "text": [
      "{'name': 'dami', 'sales': 400, 'salary': 1331.0}\n"
     ]
    }
   ],
   "source": [
    "for i in work_entry:\n",
    "    for a, b in i.items():\n",
    "        b_vals = str(b)\n",
    "        if \"a\" in b_vals:\n",
    "            print(i)"
   ]
  },
  {
   "cell_type": "code",
   "execution_count": 46,
   "id": "10618b32",
   "metadata": {},
   "outputs": [
    {
     "name": "stdout",
     "output_type": "stream",
     "text": [
      "{'name': 'dami', 'sales': 400, 'salary': 1331.0}\n"
     ]
    }
   ],
   "source": [
    "for i in work_entry:\n",
    "    name_vals = i[\"name\"]\n",
    "    if \"a\" in name_vals:\n",
    "         print(i)\n",
    "#        print(i[\"name\"])"
   ]
  },
  {
   "cell_type": "code",
   "execution_count": 34,
   "id": "4e81b1cf",
   "metadata": {},
   "outputs": [
    {
     "data": {
      "text/html": [
       "<div>\n",
       "<style scoped>\n",
       "    .dataframe tbody tr th:only-of-type {\n",
       "        vertical-align: middle;\n",
       "    }\n",
       "\n",
       "    .dataframe tbody tr th {\n",
       "        vertical-align: top;\n",
       "    }\n",
       "\n",
       "    .dataframe thead th {\n",
       "        text-align: right;\n",
       "    }\n",
       "</style>\n",
       "<table border=\"1\" class=\"dataframe\">\n",
       "  <thead>\n",
       "    <tr style=\"text-align: right;\">\n",
       "      <th></th>\n",
       "      <th>name</th>\n",
       "      <th>score</th>\n",
       "      <th>age</th>\n",
       "    </tr>\n",
       "  </thead>\n",
       "  <tbody>\n",
       "    <tr>\n",
       "      <th>0</th>\n",
       "      <td>jakes</td>\n",
       "      <td>20</td>\n",
       "      <td>15</td>\n",
       "    </tr>\n",
       "    <tr>\n",
       "      <th>1</th>\n",
       "      <td>fibian</td>\n",
       "      <td>30</td>\n",
       "      <td>8</td>\n",
       "    </tr>\n",
       "    <tr>\n",
       "      <th>2</th>\n",
       "      <td>mathew</td>\n",
       "      <td>25</td>\n",
       "      <td>10</td>\n",
       "    </tr>\n",
       "  </tbody>\n",
       "</table>\n",
       "</div>"
      ],
      "text/plain": [
       "     name  score  age\n",
       "0   jakes     20   15\n",
       "1  fibian     30    8\n",
       "2  mathew     25   10"
      ]
     },
     "execution_count": 34,
     "metadata": {},
     "output_type": "execute_result"
    }
   ],
   "source": [
    "import pandas as pd\n",
    "res = pd.DataFrame(class_results)\n",
    "res"
   ]
  },
  {
   "cell_type": "code",
   "execution_count": 35,
   "id": "e09dd972",
   "metadata": {},
   "outputs": [
    {
     "data": {
      "text/plain": [
       "0.9649660284921133"
      ]
     },
     "execution_count": 35,
     "metadata": {},
     "output_type": "execute_result"
    }
   ],
   "source": [
    "import math as m\n",
    "a = 50\n",
    "m.cos(a)"
   ]
  },
  {
   "cell_type": "code",
   "execution_count": null,
   "id": "bae00cc8",
   "metadata": {},
   "outputs": [],
   "source": [
    "###hash table"
   ]
  },
  {
   "cell_type": "code",
   "execution_count": 47,
   "id": "f534527e",
   "metadata": {},
   "outputs": [
    {
     "name": "stdout",
     "output_type": "stream",
     "text": [
      "[12, 9, 'tami', 9, 'tami', 'jonathan', 12, 12, 12, 'tami']\n"
     ]
    }
   ],
   "source": [
    "array =[12, 9, \"tami\", 9, \"tami\", \"jonathan\", 12, 12, 12, 'tami']\n",
    "print(array)"
   ]
  },
  {
   "cell_type": "code",
   "execution_count": 49,
   "id": "e4270465",
   "metadata": {},
   "outputs": [
    {
     "name": "stdout",
     "output_type": "stream",
     "text": [
      "{12: 4, 9: 2, 'tami': 3, 'jonathan': 1}\n"
     ]
    }
   ],
   "source": [
    "hash_tab = {}\n",
    "\n",
    "for i in array:\n",
    "    hash_tab[i] = hash_tab.get(i, 0) + 1\n",
    "print (hash_tab)"
   ]
  },
  {
   "cell_type": "code",
   "execution_count": null,
   "id": "19ce2b12",
   "metadata": {},
   "outputs": [],
   "source": []
  }
 ],
 "metadata": {
  "kernelspec": {
   "display_name": "Python 3 (ipykernel)",
   "language": "python",
   "name": "python3"
  },
  "language_info": {
   "codemirror_mode": {
    "name": "ipython",
    "version": 3
   },
   "file_extension": ".py",
   "mimetype": "text/x-python",
   "name": "python",
   "nbconvert_exporter": "python",
   "pygments_lexer": "ipython3",
   "version": "3.9.12"
  }
 },
 "nbformat": 4,
 "nbformat_minor": 5
}
