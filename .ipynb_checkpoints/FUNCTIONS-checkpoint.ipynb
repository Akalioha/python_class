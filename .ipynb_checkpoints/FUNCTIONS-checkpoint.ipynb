{
 "cells": [
  {
   "cell_type": "code",
   "execution_count": null,
   "id": "f39322c0",
   "metadata": {},
   "outputs": [],
   "source": [
    "#functions"
   ]
  },
  {
   "cell_type": "code",
   "execution_count": null,
   "id": "ac5fd72e",
   "metadata": {},
   "outputs": [],
   "source": [
    "Return is to store a code in its variables"
   ]
  },
  {
   "cell_type": "code",
   "execution_count": null,
   "id": "39cf4b9e",
   "metadata": {},
   "outputs": [],
   "source": [
    "#re_usable block of codes"
   ]
  },
  {
   "cell_type": "code",
   "execution_count": 1,
   "id": "84214288",
   "metadata": {},
   "outputs": [
    {
     "name": "stdout",
     "output_type": "stream",
     "text": [
      "7.5\n"
     ]
    }
   ],
   "source": [
    "array = [2, 7, 10, 11]\n",
    "\n",
    "sum_array = 0\n",
    "for i in array:\n",
    "    sum_array = i + sum_array\n",
    "    \n",
    "print(sum_array/len(array))"
   ]
  },
  {
   "cell_type": "code",
   "execution_count": 2,
   "id": "b485a0f2",
   "metadata": {},
   "outputs": [],
   "source": [
    "def mean_array(array):\n",
    "    sum_array = 0\n",
    "    for i in array:\n",
    "        sum_array = i + sum_array\n",
    "    print(sum_array/len(array))"
   ]
  },
  {
   "cell_type": "code",
   "execution_count": 3,
   "id": "b16380ca",
   "metadata": {},
   "outputs": [],
   "source": [
    "t = [1, 2, 5]\n",
    "a = [6, 4, 11]\n",
    "b = [9, 8, 11]"
   ]
  },
  {
   "cell_type": "code",
   "execution_count": 4,
   "id": "b84409b0",
   "metadata": {},
   "outputs": [
    {
     "name": "stdout",
     "output_type": "stream",
     "text": [
      "2.6666666666666665\n"
     ]
    }
   ],
   "source": [
    "mean_array(t)"
   ]
  },
  {
   "cell_type": "code",
   "execution_count": 5,
   "id": "dc8fc37f",
   "metadata": {},
   "outputs": [
    {
     "name": "stdout",
     "output_type": "stream",
     "text": [
      "7.0\n"
     ]
    }
   ],
   "source": [
    "mean_array(a)"
   ]
  },
  {
   "cell_type": "code",
   "execution_count": 6,
   "id": "2339dd45",
   "metadata": {},
   "outputs": [
    {
     "name": "stdout",
     "output_type": "stream",
     "text": [
      "9.333333333333334\n"
     ]
    }
   ],
   "source": [
    "mean_array(b)"
   ]
  },
  {
   "cell_type": "code",
   "execution_count": 7,
   "id": "62b1cabe",
   "metadata": {},
   "outputs": [],
   "source": [
    "#y(x, p) = 2x +5p +10"
   ]
  },
  {
   "cell_type": "code",
   "execution_count": 13,
   "id": "21fcf081",
   "metadata": {},
   "outputs": [],
   "source": [
    "def y(x, p):\n",
    "    b = 2*(x) + 5*(p) + 10\n",
    "    print(b)"
   ]
  },
  {
   "cell_type": "code",
   "execution_count": 14,
   "id": "cf337708",
   "metadata": {},
   "outputs": [],
   "source": [
    "a = 10\n",
    "b = 11"
   ]
  },
  {
   "cell_type": "code",
   "execution_count": 15,
   "id": "24ab447b",
   "metadata": {},
   "outputs": [
    {
     "name": "stdout",
     "output_type": "stream",
     "text": [
      "85\n",
      "None\n"
     ]
    }
   ],
   "source": [
    "x = y(a, b)\n",
    "print(x)"
   ]
  },
  {
   "cell_type": "code",
   "execution_count": 16,
   "id": "7302b567",
   "metadata": {},
   "outputs": [
    {
     "name": "stdout",
     "output_type": "stream",
     "text": [
      "85\n"
     ]
    }
   ],
   "source": [
    "def y(x, p):\n",
    "    b = 2*(x) + 5*(p) + 10\n",
    "    return b\n",
    "x = y(a, b)\n",
    "print(x)"
   ]
  },
  {
   "cell_type": "code",
   "execution_count": 17,
   "id": "7fc44042",
   "metadata": {},
   "outputs": [
    {
     "data": {
      "text/plain": [
       "85"
      ]
     },
     "execution_count": 17,
     "metadata": {},
     "output_type": "execute_result"
    }
   ],
   "source": [
    "y(10, 11)"
   ]
  },
  {
   "cell_type": "code",
   "execution_count": 18,
   "id": "4b30273e",
   "metadata": {},
   "outputs": [],
   "source": [
    "#total_income = 100"
   ]
  },
  {
   "cell_type": "code",
   "execution_count": 19,
   "id": "358aa84c",
   "metadata": {},
   "outputs": [
    {
     "name": "stdout",
     "output_type": "stream",
     "text": [
      "0.125\n"
     ]
    }
   ],
   "source": [
    "def simple_interest(p, r, t):\n",
    "    s_i = (p*r*t)/100\n",
    "    return s_i\n",
    "\n",
    "interest = simple_interest(10, 0.5, 2.5)\n",
    "print(interest)"
   ]
  },
  {
   "cell_type": "code",
   "execution_count": 20,
   "id": "fe83563b",
   "metadata": {},
   "outputs": [],
   "source": [
    "p = [10, 20, 15, 40]\n",
    "r = [0.12, 0.56, 0.77, 0.31]\n",
    "t = [1.5, 2.5, 3, 1.1]"
   ]
  },
  {
   "cell_type": "code",
   "execution_count": 21,
   "id": "7c37c35d",
   "metadata": {},
   "outputs": [
    {
     "name": "stdout",
     "output_type": "stream",
     "text": [
      "[0.018, 0.28, 0.34650000000000003, 0.13640000000000002]\n"
     ]
    }
   ],
   "source": [
    "def simple_interest(p, r, t):\n",
    "    s_i = (p*r*t)/100\n",
    "    return s_i\n",
    "\n",
    "interest_arr = []\n",
    "for i in range(0, len(p)):\n",
    "    interest = simple_interest(p[i], r[i], t[i])\n",
    "    interest_arr.append(interest)\n",
    "print(interest_arr)"
   ]
  },
  {
   "cell_type": "code",
   "execution_count": 27,
   "id": "30aecfce",
   "metadata": {},
   "outputs": [
    {
     "name": "stdout",
     "output_type": "stream",
     "text": [
      "[0.018, 0.28, 0.34650000000000003, 0.13640000000000002]\n"
     ]
    }
   ],
   "source": [
    "def simple_interest(p, r, t):\n",
    "    s_i = (p*r*t)/100\n",
    "    return s_i\n",
    "\n",
    "def int_simple(p, r, t):\n",
    "    interest_arr = []\n",
    "    for i in range(0, len(p)):\n",
    "        interest = simple_interest(p[i], r[i], t[i])\n",
    "        interest_arr.append(interest)\n",
    "    return interest_arr\n",
    "\n",
    "\n",
    "p = [10, 20, 15, 40]\n",
    "r = [0.12, 0.56, 0.77, 0.31]\n",
    "t = [1.5, 2.5, 3, 1.1]\n",
    "\n",
    "a = int_simple(p, r, t)\n",
    "print(a)"
   ]
  },
  {
   "cell_type": "code",
   "execution_count": null,
   "id": "d26e72ee",
   "metadata": {},
   "outputs": [],
   "source": []
  },
  {
   "cell_type": "code",
   "execution_count": 34,
   "id": "296a7d81",
   "metadata": {},
   "outputs": [
    {
     "name": "stdout",
     "output_type": "stream",
     "text": [
      "80.0\n"
     ]
    }
   ],
   "source": [
    "# force = mass * velocity\n",
    "# velocity = distance/time\n",
    "\n",
    "d = 10\n",
    "time = 2.5\n",
    "mass = 20\n",
    "\n",
    "#find force\n",
    "\n",
    "def velocity(d,t):\n",
    "    velo = d/t\n",
    "    return velo\n",
    "\n",
    "def force(m, d, t):\n",
    "    forc = m* velocity(d,t)\n",
    "    return forc\n",
    "\n",
    "fo = force(20, 10, 2.5)\n",
    "print(fo)"
   ]
  },
  {
   "cell_type": "code",
   "execution_count": 36,
   "id": "2dbe3c4b",
   "metadata": {},
   "outputs": [
    {
     "name": "stdout",
     "output_type": "stream",
     "text": [
      "32.0\n"
     ]
    }
   ],
   "source": [
    "def vel(d, t):\n",
    "    vel = d/t\n",
    "    return vel\n",
    "\n",
    "def acc(vel, t):\n",
    "    a = vel/t\n",
    "    return a\n",
    "\n",
    "def force(m,a):\n",
    "    f= m * a\n",
    "    return f\n",
    "\n",
    "\n",
    "velocity = vel(10, 2.5)\n",
    "#print (velocity)\n",
    "acceleration = acc(velocity, 2.5)\n",
    "#print(acceleration)\n",
    "f = force(20, acceleration)\n",
    "print(f)\n"
   ]
  },
  {
   "cell_type": "code",
   "execution_count": 49,
   "id": "d23014a5",
   "metadata": {},
   "outputs": [
    {
     "name": "stdout",
     "output_type": "stream",
     "text": [
      "0\n",
      "0\n",
      "0\n"
     ]
    }
   ],
   "source": [
    "array = [\"ch\", \"ch\", 2, 5, 10, \"ch\"]\n",
    "for i in array:\n",
    "    if i == \"ch\":\n",
    "        print(array.index(i))"
   ]
  },
  {
   "cell_type": "code",
   "execution_count": null,
   "id": "d61910e5",
   "metadata": {},
   "outputs": [],
   "source": [
    "#tuple"
   ]
  },
  {
   "cell_type": "code",
   "execution_count": 42,
   "id": "003e3a13",
   "metadata": {},
   "outputs": [
    {
     "name": "stdout",
     "output_type": "stream",
     "text": [
      "1\n"
     ]
    }
   ],
   "source": [
    "a = [1, 2]\n",
    "print(a[0])"
   ]
  },
  {
   "cell_type": "code",
   "execution_count": 50,
   "id": "374881a8",
   "metadata": {},
   "outputs": [
    {
     "name": "stdout",
     "output_type": "stream",
     "text": [
      "ch\n",
      "ch\n",
      "2\n",
      "5\n",
      "10\n",
      "ch\n"
     ]
    }
   ],
   "source": [
    "for i in enumerate(array):\n",
    "    print(i[1])"
   ]
  },
  {
   "cell_type": "code",
   "execution_count": 51,
   "id": "f7322f8c",
   "metadata": {},
   "outputs": [],
   "source": [
    "list_array = []\n",
    "for i in enumerate(array):\n",
    "    if i[1] == \"ch\":\n",
    "        list_array.append(i[0])"
   ]
  },
  {
   "cell_type": "code",
   "execution_count": 52,
   "id": "4d571065",
   "metadata": {},
   "outputs": [
    {
     "data": {
      "text/plain": [
       "[0, 1, 5]"
      ]
     },
     "execution_count": 52,
     "metadata": {},
     "output_type": "execute_result"
    }
   ],
   "source": [
    "list_array"
   ]
  },
  {
   "cell_type": "code",
   "execution_count": 53,
   "id": "c993d1f6",
   "metadata": {},
   "outputs": [
    {
     "name": "stdout",
     "output_type": "stream",
     "text": [
      "[['alphabet', 'number', 'sex'], ['a', 'b', 'c'], [1, 15, 2], ['m', 'f', 'm']]\n"
     ]
    }
   ],
   "source": [
    "data = [[\"alphabet\", \"number\", \"sex\"], [\"a\", \"b\", \"c\"], [1, 15, 2], [\"m\", \"f\", \"m\"]]\n",
    "print(data)"
   ]
  },
  {
   "cell_type": "code",
   "execution_count": 56,
   "id": "07aad947",
   "metadata": {},
   "outputs": [
    {
     "name": "stdout",
     "output_type": "stream",
     "text": [
      "enter column value: sex\n",
      "sex\n",
      "2\n",
      "['c', 2, 'm']\n"
     ]
    }
   ],
   "source": [
    "def input_col():\n",
    "    col = input('enter column value: ')\n",
    "    return col\n",
    "\n",
    "def get_col_index(col, data):\n",
    "    for i in enumerate(data[0]):\n",
    "        if col in i:\n",
    "            pos =i[0]\n",
    "    return pos\n",
    "    \n",
    "def get_pos(pos, data):\n",
    "    array = []\n",
    "    for i in data[1:]:\n",
    "        pos_val = i[pos]\n",
    "        array.append(pos_val)\n",
    "    return array\n",
    "\n",
    "\n",
    "data = [[\"alphabet\", \"number\", \"sex\"], [\"a\", \"b\", \"c\"], [1, 15, 2], [\"m\", \"f\", \"m\"]]\n",
    "inp_col = input_col()\n",
    "print(inp_col)\n",
    "col_name = get_col_index(inp_col, data)\n",
    "print(col_name)\n",
    "val_position = get_pos(col_name, data)\n",
    "print(val_position)"
   ]
  },
  {
   "cell_type": "code",
   "execution_count": null,
   "id": "5f545c6d",
   "metadata": {},
   "outputs": [],
   "source": []
  },
  {
   "cell_type": "code",
   "execution_count": null,
   "id": "6f40bf11",
   "metadata": {},
   "outputs": [],
   "source": []
  }
 ],
 "metadata": {
  "kernelspec": {
   "display_name": "Python 3 (ipykernel)",
   "language": "python",
   "name": "python3"
  },
  "language_info": {
   "codemirror_mode": {
    "name": "ipython",
    "version": 3
   },
   "file_extension": ".py",
   "mimetype": "text/x-python",
   "name": "python",
   "nbconvert_exporter": "python",
   "pygments_lexer": "ipython3",
   "version": "3.9.12"
  }
 },
 "nbformat": 4,
 "nbformat_minor": 5
}
