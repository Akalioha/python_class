{
 "cells": [
  {
   "cell_type": "markdown",
   "id": "7c5935a0",
   "metadata": {},
   "source": [
    "# New class work"
   ]
  },
  {
   "cell_type": "code",
   "execution_count": 1,
   "id": "92d5a680",
   "metadata": {},
   "outputs": [
    {
     "name": "stdout",
     "output_type": "stream",
     "text": [
      "enter score10\n",
      "15.0\n"
     ]
    }
   ],
   "source": [
    "x = float(input(\"enter score\"))\n",
    "print(x + 5)"
   ]
  },
  {
   "cell_type": "code",
   "execution_count": 3,
   "id": "86eaaf71",
   "metadata": {},
   "outputs": [
    {
     "name": "stdout",
     "output_type": "stream",
     "text": [
      "enter how many values you want the array to contain: 5\n",
      "enter value 1: 22.3\n",
      "enter value 2: 22.1\n",
      "enter value 3: 15.8\n",
      "enter value 4: 78.0\n",
      "enter value 5: 20\n",
      "[22.3, 22.1, 15.8, 78.0, 20.0]\n"
     ]
    }
   ],
   "source": [
    "array_values = []\n",
    "b =int (input(\"enter how many values you want the array to contain: \"))\n",
    "for i in range(1, b+1):\n",
    "    values = float(input(f\"enter value {i}: \"))\n",
    "    array_values.append(values)\n",
    "print(array_values)"
   ]
  },
  {
   "cell_type": "code",
   "execution_count": 4,
   "id": "a1bbee4d",
   "metadata": {},
   "outputs": [
    {
     "name": "stdout",
     "output_type": "stream",
     "text": [
      "[22.3, 22.1, 15.8, 78.0, 20.0]\n"
     ]
    }
   ],
   "source": [
    "print(array_values)"
   ]
  },
  {
   "cell_type": "code",
   "execution_count": 5,
   "id": "b309e0e2",
   "metadata": {},
   "outputs": [
    {
     "name": "stdout",
     "output_type": "stream",
     "text": [
      "158.2\n"
     ]
    }
   ],
   "source": [
    "k = 0\n",
    "for i in array_values:\n",
    "    k = k + i\n",
    "print(k)"
   ]
  },
  {
   "cell_type": "code",
   "execution_count": 7,
   "id": "91c174ad",
   "metadata": {},
   "outputs": [
    {
     "name": "stdout",
     "output_type": "stream",
     "text": [
      "enter how many values you want the array to contain: 3\n",
      "enter value 1: 10\n",
      "enter value 2: 30\n",
      "enter value 3: 100\n",
      "the sum of the value is 140.0\n"
     ]
    }
   ],
   "source": [
    "array_values = []\n",
    "k = 0\n",
    "b =int(input(\"enter how many values you want the array to contain: \"))\n",
    "for i in range(1, b+1):\n",
    "    values = float(input(f\"enter value {i}: \"))\n",
    "    array_values.append(values)\n",
    "for i in array_values:\n",
    "    k = k + i\n",
    "print(f\"the sum of the value is {k}\")"
   ]
  },
  {
   "cell_type": "code",
   "execution_count": 8,
   "id": "70731543",
   "metadata": {},
   "outputs": [
    {
     "name": "stdout",
     "output_type": "stream",
     "text": [
      "21\n"
     ]
    }
   ],
   "source": [
    "x_arr = [10, 2.1, 21, 8, 5, 4, 1.1]\n",
    "\n",
    "b = x_arr[0]\n",
    "for i in x_arr:\n",
    "    if i > b: \n",
    "        b = i\n",
    "print(b)"
   ]
  },
  {
   "cell_type": "code",
   "execution_count": 9,
   "id": "834b65e7",
   "metadata": {},
   "outputs": [
    {
     "name": "stdout",
     "output_type": "stream",
     "text": [
      "1.1\n"
     ]
    }
   ],
   "source": [
    "x_arr = [10, 2.1, 21, 8, 5, 4, 1.1]\n",
    "\n",
    "b = x_arr[0]\n",
    "for i in x_arr:\n",
    "    if i < b: \n",
    "        b = i\n",
    "print(b)"
   ]
  },
  {
   "cell_type": "code",
   "execution_count": 10,
   "id": "88785f43",
   "metadata": {},
   "outputs": [
    {
     "name": "stdout",
     "output_type": "stream",
     "text": [
      "7.314\n"
     ]
    }
   ],
   "source": [
    "##mean of array x_arr\n",
    "\n",
    "sum_value = 0\n",
    "for i in x_arr:\n",
    "    sum_value = sum_value + i\n",
    "    \n",
    "mean_value = round(sum_value/len(x_arr), 3)\n",
    "print(mean_value)"
   ]
  },
  {
   "cell_type": "code",
   "execution_count": 11,
   "id": "753eeece",
   "metadata": {},
   "outputs": [
    {
     "name": "stdout",
     "output_type": "stream",
     "text": [
      "[10, 2.1, 21, 8, 5, 4, 1.1]\n"
     ]
    }
   ],
   "source": [
    "print(x_arr)"
   ]
  },
  {
   "cell_type": "code",
   "execution_count": 14,
   "id": "dd896ae4",
   "metadata": {},
   "outputs": [],
   "source": [
    "x_arr.sort()"
   ]
  },
  {
   "cell_type": "code",
   "execution_count": 16,
   "id": "791c4861",
   "metadata": {},
   "outputs": [
    {
     "name": "stdout",
     "output_type": "stream",
     "text": [
      "4.5\n"
     ]
    }
   ],
   "source": [
    "mid1 = int(len(x_arr)/2)\n",
    "mid2 = mid1 - 1\n",
    "median_val = (x_arr[mid1] + x_arr[mid2])/2\n",
    "print(median_val)"
   ]
  },
  {
   "cell_type": "code",
   "execution_count": 17,
   "id": "08ba74af",
   "metadata": {},
   "outputs": [
    {
     "name": "stdout",
     "output_type": "stream",
     "text": [
      "enterhow many values you want the array to contain: 4\n",
      "enter value 1: 2\n",
      "enter value 2: 1\n",
      "enter value 3: 7\n",
      "enter value 4: 3\n",
      "2.5\n"
     ]
    }
   ],
   "source": [
    "array_values = []\n",
    "k = 0\n",
    "b = int(input(\"enterhow many values you want the array to contain: \"))\n",
    "for i in range(1, b+1):\n",
    "    values = float(input(f\"enter value {i}: \"))\n",
    "    array_values.append(values)\n",
    "for i in array_values:\n",
    "    k = k + i\n",
    "    \n",
    "    \n",
    "################################################################################\n",
    "\n",
    "array_values.sort()\n",
    "if len(array_values)%2 !=0:\n",
    "    mid = int(len(array_values)/2)\n",
    "    print(array_values[mid])\n",
    "else:\n",
    "    mid1 = int(len(array_values)/2)\n",
    "mid2 = mid1 - 1\n",
    "median_val = (array_values[mid1] + array_values[mid2])/2\n",
    "print(median_val)\n",
    "    "
   ]
  },
  {
   "cell_type": "code",
   "execution_count": 29,
   "id": "5b59c639",
   "metadata": {},
   "outputs": [
    {
     "name": "stdout",
     "output_type": "stream",
     "text": [
      "enter the measure of central tendency you want: median\n",
      "enter how many values you want the array to contain: 4\n",
      "enter value 1: 4\n",
      "enter value 2: 6\n",
      "enter value 3: 3\n",
      "enter value 4: 5\n",
      "4.5\n"
     ]
    }
   ],
   "source": [
    "measure_tendency = input(\"enter the measure of central tendency you want: \").lower()\n",
    "array_values = []\n",
    "k = 0\n",
    "b = int(input(\"enter how many values you want the array to contain: \"))\n",
    "for i in range(1, b+1):\n",
    "    values = float(input(f\"enter value {i}: \"))\n",
    "    array_values.append(values)\n",
    "for i in array_values:\n",
    "    k = k + i\n",
    "    \n",
    "    \n",
    "################################################################################\n",
    "\n",
    "if measure_tendency == \"median\":\n",
    "    array_values.sort()\n",
    "    if len(array_values)%2 !=0:\n",
    "        mid = int(len(array_values)/2)\n",
    "        print(array_values[mid])\n",
    "    else:\n",
    "        mid1 = int(len(array_values)/2)\n",
    "        mid2 = mid1 - 1\n",
    "        median_val = (array_values[mid1] + array_values[mid2])/2\n",
    "        print(median_val)\n",
    "\n",
    "\n",
    "elif measure_tendency == \"mean\" :\n",
    "    sum_value = 0\n",
    "    for i in array_values:\n",
    "        sum_value = sum_value + i\n",
    "    \n",
    "    mean_value = round(sum_value/len(array_values), 3)\n",
    "    print(mean_value)\n",
    "\n",
    "else:\n",
    "    print(\"measure of central tendency not defined!!!!\")\n",
    "    "
   ]
  },
  {
   "cell_type": "code",
   "execution_count": null,
   "id": "4af9e2e4",
   "metadata": {},
   "outputs": [],
   "source": []
  },
  {
   "cell_type": "code",
   "execution_count": null,
   "id": "51667a26",
   "metadata": {},
   "outputs": [],
   "source": []
  }
 ],
 "metadata": {
  "kernelspec": {
   "display_name": "Python 3 (ipykernel)",
   "language": "python",
   "name": "python3"
  },
  "language_info": {
   "codemirror_mode": {
    "name": "ipython",
    "version": 3
   },
   "file_extension": ".py",
   "mimetype": "text/x-python",
   "name": "python",
   "nbconvert_exporter": "python",
   "pygments_lexer": "ipython3",
   "version": "3.9.12"
  }
 },
 "nbformat": 4,
 "nbformat_minor": 5
}
