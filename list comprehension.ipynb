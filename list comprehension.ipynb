{
 "cells": [
  {
   "cell_type": "code",
   "execution_count": 1,
   "id": "f6c62383",
   "metadata": {},
   "outputs": [
    {
     "name": "stdout",
     "output_type": "stream",
     "text": [
      "[9, 2, 0, 6, 1, 12, 6, 5]\n"
     ]
    }
   ],
   "source": [
    "array_t = [1, 10, 6, 5, 12]\n",
    "array_k = [10, 12, 6, 11, 13, 12, 6, 5]\n",
    "\n",
    "diff_= []\n",
    "if len(array_t) == len(array_k):\n",
    "    for i in range(0, len(array_t)):\n",
    "        diff_val = array_k[i] - array_t[i]\n",
    "        diff_.append(diff_val)\n",
    "    print(diff_)\n",
    "    \n",
    "elif len(array_t) != len(array_k):\n",
    "    if len(array_k) > len(array_t):\n",
    "        p = len(array_k) - len(array_t)\n",
    "        val = [0 for i in range(0, p)]\n",
    "        for i in val:\n",
    "            array_t.append(i)\n",
    "        for i in range(0, len(array_t)):\n",
    "            diff_val = array_k[i] - array_t[i]\n",
    "            diff_.append(diff_val)\n",
    "        print(diff_)\n",
    "    \n",
    "    elif len(array_t) > len(array_k):\n",
    "        diff_2 = []\n",
    "        p = len(array_t) - len(array_k)\n",
    "        val = [0 for i in range(0, p)]\n",
    "        for i in val:\n",
    "            array_k.append(i)\n",
    "        for i in range(0, len(array_k)):\n",
    "            diff_val = array_k[i] - array_t[i]\n",
    "            diff_2.append(diff_val)\n",
    "        print(diff_2)\n",
    "    \n",
    "    \n",
    "else:\n",
    "    print(\"output not entered properly\")"
   ]
  },
  {
   "cell_type": "code",
   "execution_count": 2,
   "id": "9db895c2",
   "metadata": {},
   "outputs": [
    {
     "name": "stdout",
     "output_type": "stream",
     "text": [
      "[2, 4, 6, 8]\n"
     ]
    }
   ],
   "source": [
    "array_plot= []\n",
    "for i in range(1, 10):\n",
    "    if i%2 == 0:\n",
    "        array_plot.append(i)\n",
    "print(array_plot)"
   ]
  },
  {
   "cell_type": "code",
   "execution_count": 4,
   "id": "1eaaa0c5",
   "metadata": {},
   "outputs": [
    {
     "name": "stdout",
     "output_type": "stream",
     "text": [
      "[2, 4, 6, 8]\n"
     ]
    }
   ],
   "source": [
    "array_plot = [i for i in range(1, 10) if i%2 == 0]\n",
    "print(array_plot)"
   ]
  },
  {
   "cell_type": "code",
   "execution_count": 5,
   "id": "b278415b",
   "metadata": {},
   "outputs": [
    {
     "name": "stdout",
     "output_type": "stream",
     "text": [
      "[4, 5, 4, 5]\n"
     ]
    }
   ],
   "source": [
    "list_names = [\"john\", \"jamie\", \"kate\", \"peace\"]\n",
    "count_names = []\n",
    "for i in list_names:\n",
    "    d = len(i)\n",
    "    count_names.append(d)\n",
    "print(count_names)"
   ]
  },
  {
   "cell_type": "code",
   "execution_count": 6,
   "id": "5ed13d5e",
   "metadata": {},
   "outputs": [
    {
     "name": "stdout",
     "output_type": "stream",
     "text": [
      "[4, 5, 4, 5]\n"
     ]
    }
   ],
   "source": [
    "count_n = [len(i) for i in list_names]\n",
    "print(count_n)"
   ]
  },
  {
   "cell_type": "code",
   "execution_count": 7,
   "id": "3b9b607c",
   "metadata": {},
   "outputs": [
    {
     "name": "stdout",
     "output_type": "stream",
     "text": [
      "[[0, 0.0, 5], [1, 0.5, 6], [2, 1.0, 7], [3, 1.5, 8], [4, 2.0, 9]]\n"
     ]
    }
   ],
   "source": [
    "####Basic matrix operation\n",
    "\n",
    "\n",
    "mat_1 = [[i, i/2, i+5] for i in range(5)]\n",
    "print(mat_1)"
   ]
  },
  {
   "cell_type": "code",
   "execution_count": 8,
   "id": "9fbd9a4e",
   "metadata": {},
   "outputs": [
    {
     "name": "stdout",
     "output_type": "stream",
     "text": [
      "[[[0, 0.0], [0.0, 3]], [[1, 0.5], [0.5, 4]], [[2, 1.0], [1.0, 5]], [[3, 1.5], [1.5, 6]], [[4, 2.0], [2.0, 7]]]\n"
     ]
    }
   ],
   "source": [
    "mat_1 = [[[i, i/2], [i*(1/2), i+3]]for i in range(5)]\n",
    "print(mat_1)"
   ]
  },
  {
   "cell_type": "code",
   "execution_count": 25,
   "id": "a3940996",
   "metadata": {},
   "outputs": [
    {
     "name": "stdout",
     "output_type": "stream",
     "text": [
      "[[1, 2, 3], [4, 5, 6], [0, 8, 4]]\n"
     ]
    }
   ],
   "source": [
    "matrix = [[1, 2, 3],\n",
    "         [4, 5, 6],\n",
    "         [0, 8, 4]\n",
    "         ]\n",
    "print(matrix)"
   ]
  },
  {
   "cell_type": "code",
   "execution_count": null,
   "id": "59c13587",
   "metadata": {},
   "outputs": [],
   "source": []
  },
  {
   "cell_type": "code",
   "execution_count": 10,
   "id": "3c905760",
   "metadata": {},
   "outputs": [
    {
     "name": "stdout",
     "output_type": "stream",
     "text": [
      "4\n"
     ]
    }
   ],
   "source": [
    "print(matrix[1][0])"
   ]
  },
  {
   "cell_type": "code",
   "execution_count": 11,
   "id": "59253d34",
   "metadata": {
    "scrolled": true
   },
   "outputs": [
    {
     "name": "stdout",
     "output_type": "stream",
     "text": [
      "1\n",
      "5\n",
      "4\n"
     ]
    }
   ],
   "source": [
    "for i in range(len(matrix)):\n",
    "    print(matrix[i][i])"
   ]
  },
  {
   "cell_type": "code",
   "execution_count": 26,
   "id": "76c8e931",
   "metadata": {},
   "outputs": [
    {
     "name": "stdout",
     "output_type": "stream",
     "text": [
      "[1, 2, 3]\n",
      "[4, 5, 6]\n",
      "[0, 8, 4]\n"
     ]
    }
   ],
   "source": [
    "for i in range(0, len(matrix)):\n",
    "    print(matrix[i])"
   ]
  },
  {
   "cell_type": "code",
   "execution_count": 27,
   "id": "399d1327",
   "metadata": {},
   "outputs": [
    {
     "name": "stdout",
     "output_type": "stream",
     "text": [
      "[0, 1, 2]\n",
      "[2, 1, 0]\n"
     ]
    }
   ],
   "source": [
    "new_array = [i for i in range(len(matrix))]\n",
    "array_p = new_array.copy()\n",
    "array_p.reverse()\n",
    "print(new_array)\n",
    "print(array_p)"
   ]
  },
  {
   "cell_type": "code",
   "execution_count": 29,
   "id": "f97f8475",
   "metadata": {},
   "outputs": [
    {
     "name": "stdout",
     "output_type": "stream",
     "text": [
      "3\n",
      "5\n",
      "0\n"
     ]
    }
   ],
   "source": [
    "for i in range(0, len(array_p)):\n",
    "    print(matrix[new_array[i]][array_p[i]])"
   ]
  },
  {
   "cell_type": "code",
   "execution_count": 30,
   "id": "d8c54bdc",
   "metadata": {},
   "outputs": [],
   "source": [
    "array_p = new_array.copy()\n",
    "array_p.reverse()"
   ]
  },
  {
   "cell_type": "code",
   "execution_count": 31,
   "id": "ed616a39",
   "metadata": {},
   "outputs": [
    {
     "data": {
      "text/plain": [
       "[0, 1, 2]"
      ]
     },
     "execution_count": 31,
     "metadata": {},
     "output_type": "execute_result"
    }
   ],
   "source": [
    "new_array"
   ]
  },
  {
   "cell_type": "code",
   "execution_count": 32,
   "id": "16e8a03c",
   "metadata": {},
   "outputs": [
    {
     "data": {
      "text/plain": [
       "[2, 1, 0]"
      ]
     },
     "execution_count": 32,
     "metadata": {},
     "output_type": "execute_result"
    }
   ],
   "source": [
    "array_p"
   ]
  },
  {
   "cell_type": "code",
   "execution_count": 34,
   "id": "841203c9",
   "metadata": {},
   "outputs": [
    {
     "name": "stdout",
     "output_type": "stream",
     "text": [
      "8\n"
     ]
    }
   ],
   "source": [
    "new_sum = 0\n",
    "for i in range(0, len(array_p)):\n",
    "    b = matrix[new_array[i]][array_p[i]]\n",
    "    new_sum = b + new_sum\n",
    "print(new_sum)"
   ]
  },
  {
   "cell_type": "code",
   "execution_count": 35,
   "id": "75694e01",
   "metadata": {},
   "outputs": [
    {
     "name": "stdout",
     "output_type": "stream",
     "text": [
      "1\n",
      "5\n",
      "4\n"
     ]
    }
   ],
   "source": [
    "for i in range(len(matrix)):\n",
    "    print(matrix[i][i])"
   ]
  },
  {
   "cell_type": "code",
   "execution_count": 37,
   "id": "3e280de2",
   "metadata": {},
   "outputs": [
    {
     "name": "stdout",
     "output_type": "stream",
     "text": [
      "10\n"
     ]
    }
   ],
   "source": [
    "sum_2 = 0\n",
    "for i in range(0, len(matrix)):\n",
    "    c = matrix[i][i]\n",
    "    sum_2 = c + sum_2\n",
    "print(sum_2)"
   ]
  },
  {
   "cell_type": "code",
   "execution_count": 39,
   "id": "05e3f4f7",
   "metadata": {},
   "outputs": [
    {
     "name": "stdout",
     "output_type": "stream",
     "text": [
      "sum_2\n"
     ]
    }
   ],
   "source": [
    "if new_sum > sum_2:\n",
    "    print(\"new_sum\")\n",
    "else:\n",
    "    print(\"sum_2\")"
   ]
  },
  {
   "cell_type": "code",
   "execution_count": null,
   "id": "6dcd73ef",
   "metadata": {},
   "outputs": [],
   "source": []
  },
  {
   "cell_type": "code",
   "execution_count": 40,
   "id": "81adfeb3",
   "metadata": {},
   "outputs": [],
   "source": [
    "#####STRING METHODS\n",
    "# - split()\n",
    "# - pop()\n",
    "# - joins()"
   ]
  },
  {
   "cell_type": "code",
   "execution_count": 65,
   "id": "e9338b84",
   "metadata": {},
   "outputs": [
    {
     "data": {
      "text/plain": [
       "['+234', '081', '625', '8163']"
      ]
     },
     "execution_count": 65,
     "metadata": {},
     "output_type": "execute_result"
    }
   ],
   "source": [
    "phone_number = \"+234-081-625-8163\"\n",
    "str_val = phone_number.split(\"-\")\n",
    "str_val"
   ]
  },
  {
   "cell_type": "code",
   "execution_count": 66,
   "id": "15627867",
   "metadata": {},
   "outputs": [
    {
     "data": {
      "text/plain": [
       "'+2340816258163'"
      ]
     },
     "execution_count": 66,
     "metadata": {},
     "output_type": "execute_result"
    }
   ],
   "source": [
    "a = \"\"\n",
    "a.join(str_val)"
   ]
  },
  {
   "cell_type": "code",
   "execution_count": 67,
   "id": "bd20016e",
   "metadata": {},
   "outputs": [
    {
     "name": "stdout",
     "output_type": "stream",
     "text": [
      "a-b-jack\n"
     ]
    }
   ],
   "source": [
    "s = \"-\"\n",
    "seq = [\"a\", \"b\", \"jack\"]\n",
    "print(s.join(seq))"
   ]
  },
  {
   "cell_type": "code",
   "execution_count": null,
   "id": "887f78db",
   "metadata": {},
   "outputs": [],
   "source": [
    "##classworkSPILT THE FIRST AND THE LAST NAME AND APPEND INTO THE FIRST THE LAST NAME ARRAY"
   ]
  },
  {
   "cell_type": "code",
   "execution_count": 58,
   "id": "78b9ff69",
   "metadata": {},
   "outputs": [
    {
     "name": "stdout",
     "output_type": "stream",
     "text": [
      "['john', 'kate', 'peter']\n",
      "['williams', 'herna', 'drury']\n"
     ]
    }
   ],
   "source": [
    "first_name = []\n",
    "last_name = []\n",
    "array_names = [\"john-williams\", \"kate-herna\", \"peter-drury\"]\n",
    "for i in array_names:\n",
    "    a = i.split(\"-\")[0]\n",
    "    first_name.append(a)\n",
    "    b = i.split(\"-\")[1]\n",
    "    last_name.append(b)\n",
    "print(first_name)\n",
    "print(last_name)"
   ]
  },
  {
   "cell_type": "code",
   "execution_count": 64,
   "id": "69f1169f",
   "metadata": {},
   "outputs": [
    {
     "name": "stdout",
     "output_type": "stream",
     "text": [
      "['john', 'kate', 'peter', 'john', 'matt']\n",
      "['williams', 'herna', 'drury', 'philip', 'bureau']\n"
     ]
    }
   ],
   "source": [
    "f_names = []\n",
    "l_names = []\n",
    "name_array = [\"john-williams\", \"kate-herna\", \"peter-drury\", \"john#philip\", \"matt#bureau\"]\n",
    "for i in name_array:\n",
    "    if \"-\" in i:\n",
    "        x = i.split(\"-\")[0]\n",
    "        y = i.split(\"-\")[1]\n",
    "        f_names.append(x)\n",
    "        l_names.append(y)\n",
    "    else:\n",
    "        b = i.split(\"#\")[0]\n",
    "        l = i.split(\"#\")[1]\n",
    "        f_names.append(b)\n",
    "        l_names.append(l)\n",
    "print(f_names)\n",
    "print(l_names)"
   ]
  },
  {
   "cell_type": "code",
   "execution_count": null,
   "id": "9b4f6f26",
   "metadata": {},
   "outputs": [],
   "source": [
    "##\n",
    "s = 'abcbcaba'\n",
    "###find the longest string"
   ]
  },
  {
   "cell_type": "code",
   "execution_count": null,
   "id": "fd81ff08",
   "metadata": {},
   "outputs": [],
   "source": []
  }
 ],
 "metadata": {
  "kernelspec": {
   "display_name": "Python 3 (ipykernel)",
   "language": "python",
   "name": "python3"
  },
  "language_info": {
   "codemirror_mode": {
    "name": "ipython",
    "version": 3
   },
   "file_extension": ".py",
   "mimetype": "text/x-python",
   "name": "python",
   "nbconvert_exporter": "python",
   "pygments_lexer": "ipython3",
   "version": "3.9.12"
  }
 },
 "nbformat": 4,
 "nbformat_minor": 5
}
