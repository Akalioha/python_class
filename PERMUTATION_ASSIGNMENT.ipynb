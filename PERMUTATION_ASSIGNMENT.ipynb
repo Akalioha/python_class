{
 "cells": [
  {
   "cell_type": "code",
   "execution_count": 1,
   "id": "a8852726",
   "metadata": {},
   "outputs": [
    {
     "name": "stdout",
     "output_type": "stream",
     "text": [
      "Enter value: 0\n",
      "this cannot be calculated\n"
     ]
    }
   ],
   "source": [
    "perm = []\n",
    "l = int(input(\"Enter value: \"))\n",
    "k = 1\n",
    "if l > 0:\n",
    "    for i in range(1, l+1):\n",
    "        b = i\n",
    "        perm.append(b)\n",
    "    print(perm)\n",
    "\n",
    "    for i in range(1, l+1):\n",
    "        k = k*i\n",
    "    print(k)\n",
    "\n",
    "else:\n",
    "    print(\"this cannot be calculated\")"
   ]
  },
  {
   "cell_type": "code",
   "execution_count": 3,
   "id": "22ca87f9",
   "metadata": {},
   "outputs": [
    {
     "name": "stdout",
     "output_type": "stream",
     "text": [
      "Enter value: 5\n",
      "[1, 2, 3, 4, 5]\n",
      "120\n"
     ]
    }
   ],
   "source": [
    "perm = []\n",
    "l = int(input(\"Enter value: \"))\n",
    "k = 1\n",
    "if l > 0:\n",
    "    for i in range(1, l+1):\n",
    "        b = i\n",
    "        perm.append(b)\n",
    "    print(perm)\n",
    "\n",
    "    for i in range(1, l+1):\n",
    "        k = k*i\n",
    "    print(k)\n",
    "\n",
    "else:\n",
    "    print(\"this cannot be calculated\")"
   ]
  },
  {
   "cell_type": "code",
   "execution_count": 4,
   "id": "c5682cdf",
   "metadata": {},
   "outputs": [
    {
     "name": "stdout",
     "output_type": "stream",
     "text": [
      "Enter value: -6\n",
      "this cannot be calculated\n"
     ]
    }
   ],
   "source": [
    "perm = []\n",
    "l = int(input(\"Enter value: \"))\n",
    "k = 1\n",
    "if l > 0:\n",
    "    for i in range(1, l+1):\n",
    "        b = i\n",
    "        perm.append(b)\n",
    "    print(perm)\n",
    "\n",
    "    for i in range(1, l+1):\n",
    "        k = k*i\n",
    "    print(k)\n",
    "\n",
    "else:\n",
    "    print(\"this cannot be calculated\")"
   ]
  },
  {
   "cell_type": "code",
   "execution_count": null,
   "id": "d2ca0a09",
   "metadata": {},
   "outputs": [],
   "source": []
  }
 ],
 "metadata": {
  "kernelspec": {
   "display_name": "Python 3 (ipykernel)",
   "language": "python",
   "name": "python3"
  },
  "language_info": {
   "codemirror_mode": {
    "name": "ipython",
    "version": 3
   },
   "file_extension": ".py",
   "mimetype": "text/x-python",
   "name": "python",
   "nbconvert_exporter": "python",
   "pygments_lexer": "ipython3",
   "version": "3.9.12"
  }
 },
 "nbformat": 4,
 "nbformat_minor": 5
}
