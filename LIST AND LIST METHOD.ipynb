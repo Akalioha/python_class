{
 "cells": [
  {
   "cell_type": "code",
   "execution_count": null,
   "id": "ad30336d",
   "metadata": {},
   "outputs": [],
   "source": [
    "BODY MASS INDEX"
   ]
  },
  {
   "cell_type": "code",
   "execution_count": 4,
   "id": "f4378668",
   "metadata": {},
   "outputs": [
    {
     "name": "stdout",
     "output_type": "stream",
     "text": [
      "Enter your height: 160\n",
      "Enter your weight: 630\n",
      "Choose the unit for height (m or cm or f)cm\n",
      "Choose the unit for weight (kg or g)g\n",
      "2.4609375e-07\n"
     ]
    }
   ],
   "source": [
    "height = float(input(\"Enter your height: \"))\n",
    "weight = float(input(\"Enter your weight: \"))\n",
    "\n",
    "unit = input(\"Choose the unit for height (m or cm or f)\")\n",
    "unit1 = input(\"Choose the unit for weight (kg or g)\")\n",
    "if unit == \"m\" and unit1== \"kg\":\n",
    "       \n",
    "    bmi =weight/height**2\n",
    "    print(bmi)\n",
    "elif unit == \"cm\" and unit1 == \"g\":\n",
    "    bmi =(weight/1000)/height**2/100\n",
    "    print(bmi)\n",
    "else:\n",
    "    print(\"Unknown value\")"
   ]
  },
  {
   "cell_type": "code",
   "execution_count": 7,
   "id": "8a46bcc4",
   "metadata": {},
   "outputs": [
    {
     "name": "stdout",
     "output_type": "stream",
     "text": [
      "['john', 'james', 'kate', True, 10.55, 34]\n"
     ]
    }
   ],
   "source": [
    "x=[\"john\",\"james\", \"kate\", True, 10.55,34]\n",
    "print (x)"
   ]
  },
  {
   "cell_type": "code",
   "execution_count": 8,
   "id": "6acbecf9",
   "metadata": {},
   "outputs": [
    {
     "data": {
      "text/plain": [
       "6"
      ]
     },
     "execution_count": 8,
     "metadata": {},
     "output_type": "execute_result"
    }
   ],
   "source": [
    "len (x)"
   ]
  },
  {
   "cell_type": "code",
   "execution_count": 9,
   "id": "1a0a0c21",
   "metadata": {},
   "outputs": [
    {
     "data": {
      "text/plain": [
       "5"
      ]
     },
     "execution_count": 9,
     "metadata": {},
     "output_type": "execute_result"
    }
   ],
   "source": [
    "x.index(34)"
   ]
  },
  {
   "cell_type": "code",
   "execution_count": 10,
   "id": "ad54fbac",
   "metadata": {},
   "outputs": [
    {
     "data": {
      "text/plain": [
       "34"
      ]
     },
     "execution_count": 10,
     "metadata": {},
     "output_type": "execute_result"
    }
   ],
   "source": [
    "x[5]"
   ]
  },
  {
   "cell_type": "code",
   "execution_count": 11,
   "id": "11cc90e7",
   "metadata": {},
   "outputs": [
    {
     "data": {
      "text/plain": [
       "['john', 'james', 'kate', True]"
      ]
     },
     "execution_count": 11,
     "metadata": {},
     "output_type": "execute_result"
    }
   ],
   "source": [
    "##slicing\n",
    "x[0:4]"
   ]
  },
  {
   "cell_type": "code",
   "execution_count": 12,
   "id": "250ca709",
   "metadata": {},
   "outputs": [
    {
     "data": {
      "text/plain": [
       "[True, 10.55, 34]"
      ]
     },
     "execution_count": 12,
     "metadata": {},
     "output_type": "execute_result"
    }
   ],
   "source": [
    "x[3:]"
   ]
  },
  {
   "cell_type": "code",
   "execution_count": 14,
   "id": "54bb4d21",
   "metadata": {},
   "outputs": [
    {
     "name": "stdout",
     "output_type": "stream",
     "text": [
      "john\n",
      "james\n",
      "kate\n",
      "True\n",
      "10.55\n",
      "34\n"
     ]
    }
   ],
   "source": [
    "for i in x:\n",
    "    print(i)"
   ]
  },
  {
   "cell_type": "code",
   "execution_count": 15,
   "id": "7f94027f",
   "metadata": {},
   "outputs": [
    {
     "name": "stdout",
     "output_type": "stream",
     "text": [
      "0\n",
      "1\n",
      "2\n",
      "3\n",
      "4\n",
      "5\n"
     ]
    }
   ],
   "source": [
    "for i in range(0, len(x)):\n",
    "    print (i)"
   ]
  },
  {
   "cell_type": "code",
   "execution_count": 16,
   "id": "53cdad04",
   "metadata": {},
   "outputs": [
    {
     "name": "stdout",
     "output_type": "stream",
     "text": [
      "john\n",
      "james\n",
      "kate\n",
      "True\n",
      "10.55\n",
      "34\n"
     ]
    }
   ],
   "source": [
    "for i in range(0, len(x)):\n",
    "    print(x[i])"
   ]
  },
  {
   "cell_type": "code",
   "execution_count": 17,
   "id": "3f06f1bd",
   "metadata": {},
   "outputs": [
    {
     "name": "stdout",
     "output_type": "stream",
     "text": [
      "['john', 'james', 'kate', True, 10.55, 34]\n"
     ]
    }
   ],
   "source": [
    "array=[]\n",
    "for i in range(0, len (x)):\n",
    "    array.append(x[i])\n",
    "    \n",
    "print (array)"
   ]
  },
  {
   "cell_type": "code",
   "execution_count": 18,
   "id": "022f0ecd",
   "metadata": {},
   "outputs": [
    {
     "data": {
      "text/plain": [
       "str"
      ]
     },
     "execution_count": 18,
     "metadata": {},
     "output_type": "execute_result"
    }
   ],
   "source": [
    "type(x[2])"
   ]
  },
  {
   "cell_type": "code",
   "execution_count": 19,
   "id": "bab910d3",
   "metadata": {},
   "outputs": [
    {
     "name": "stdout",
     "output_type": "stream",
     "text": [
      "['john', 'james', 'kate', True, 10.55, 34]\n"
     ]
    }
   ],
   "source": [
    "print (x)"
   ]
  },
  {
   "cell_type": "code",
   "execution_count": 20,
   "id": "71d0b7f8",
   "metadata": {},
   "outputs": [
    {
     "name": "stdout",
     "output_type": "stream",
     "text": [
      "10.55\n",
      "34\n"
     ]
    }
   ],
   "source": [
    "for i in x:\n",
    "    if type (i) == str or type (i) == bool:\n",
    "        pass\n",
    "    else:\n",
    "        print (i)"
   ]
  },
  {
   "cell_type": "code",
   "execution_count": 21,
   "id": "d2536979",
   "metadata": {},
   "outputs": [
    {
     "name": "stdout",
     "output_type": "stream",
     "text": [
      "10.55\n",
      "34\n"
     ]
    }
   ],
   "source": [
    "for i in x:\n",
    "    if type(i) != str and type (i) != bool:\n",
    "        print (i)"
   ]
  },
  {
   "cell_type": "code",
   "execution_count": 22,
   "id": "267a14a4",
   "metadata": {},
   "outputs": [
    {
     "name": "stdout",
     "output_type": "stream",
     "text": [
      "True\n"
     ]
    }
   ],
   "source": [
    "print(x[3])"
   ]
  },
  {
   "cell_type": "code",
   "execution_count": 23,
   "id": "5b78ca52",
   "metadata": {},
   "outputs": [
    {
     "name": "stdout",
     "output_type": "stream",
     "text": [
      "['john', 'james', 'David', True, 10.55, 34]\n"
     ]
    }
   ],
   "source": [
    "x[2] = \"David\"\n",
    "print(x)"
   ]
  },
  {
   "cell_type": "code",
   "execution_count": 24,
   "id": "ed852abd",
   "metadata": {},
   "outputs": [
    {
     "name": "stdout",
     "output_type": "stream",
     "text": [
      "['john', 'james', 'David', True, 10.55, 34, 'Akunna']\n"
     ]
    }
   ],
   "source": [
    "x.append(\"Akunna\")\n",
    "print(x)"
   ]
  },
  {
   "cell_type": "code",
   "execution_count": 26,
   "id": "d8c8e1ec",
   "metadata": {},
   "outputs": [
    {
     "name": "stdout",
     "output_type": "stream",
     "text": [
      "jude\n",
      "philip\n",
      "reginald\n",
      "caleb\n",
      "jake\n",
      "chowah\n"
     ]
    }
   ],
   "source": [
    "p = [\"jude\", \"philip\",\"reginald\",\"caleb\", \"jake\",\"chowah\"]\n",
    "for i in p:\n",
    "    print(i)"
   ]
  },
  {
   "cell_type": "code",
   "execution_count": null,
   "id": "f5625d87",
   "metadata": {},
   "outputs": [],
   "source": [
    "###list method\n",
    "append()\n",
    "len()\n",
    "upper()\n",
    "list[]\n",
    "!= not equal to"
   ]
  },
  {
   "cell_type": "code",
   "execution_count": 31,
   "id": "c10be5f5",
   "metadata": {},
   "outputs": [
    {
     "name": "stdout",
     "output_type": "stream",
     "text": [
      "['jude', 'philip', 'reginald', 'jake', 'chowah']\n"
     ]
    }
   ],
   "source": [
    "p = [\"jude\", \"philip\",\"reginald\",\"caleb\", \"jake\",\"chowah\"]\n",
    "even_names = []\n",
    "odd_names = []\n",
    "for i in p:\n",
    "    if len(i)%2 == 0:\n",
    "        even_names.append(i)\n",
    "    else:\n",
    "        odd_names. append(i)\n",
    "print(even_names)"
   ]
  },
  {
   "cell_type": "code",
   "execution_count": 32,
   "id": "6336fc30",
   "metadata": {},
   "outputs": [
    {
     "name": "stdout",
     "output_type": "stream",
     "text": [
      "[]\n"
     ]
    }
   ],
   "source": [
    "p = [\"jude\", \"philip\", \"jane\",\"caleb\", \"jake\",\"chowah\"]\n",
    "even_names = []\n",
    "odd_names = []\n",
    "for i in p:\n",
    "    if len(i)/2 == 0:\n",
    "        even_names.append(i)\n",
    "    else:\n",
    "        odd_names. append(i)\n",
    "print(even_names)"
   ]
  },
  {
   "cell_type": "code",
   "execution_count": 34,
   "id": "4f68ea8a",
   "metadata": {},
   "outputs": [
    {
     "data": {
      "text/plain": [
       "['timothy', 10, 33, 'jude']"
      ]
     },
     "execution_count": 34,
     "metadata": {},
     "output_type": "execute_result"
    }
   ],
   "source": [
    "array =[\"john\", \"timothy\", 10, 33, \"jude\"]\n",
    "array [1:]"
   ]
  },
  {
   "cell_type": "code",
   "execution_count": 35,
   "id": "29c81cda",
   "metadata": {},
   "outputs": [
    {
     "data": {
      "text/plain": [
       "[33, 'jude']"
      ]
     },
     "execution_count": 35,
     "metadata": {},
     "output_type": "execute_result"
    }
   ],
   "source": [
    "array =[\"john\", \"timothy\", 10, 33, \"jude\"]\n",
    "array[array.index(33):]"
   ]
  },
  {
   "cell_type": "code",
   "execution_count": 43,
   "id": "256de90a",
   "metadata": {},
   "outputs": [
    {
     "name": "stdout",
     "output_type": "stream",
     "text": [
      "enter_value: 10\n",
      "['33', 'jude', 'beauty']\n"
     ]
    }
   ],
   "source": [
    "input_value = input (\"enter_value: \")\n",
    "array =[\"john\", \"timothy\", 10, 33, \"jude\", \"beauty\"]\n",
    "new_arry =[]\n",
    "for i in array:\n",
    "    b = str(i)\n",
    "    new_arry.append(b)\n",
    "    \n",
    "f_ans = new_arry[new_arry.index(input_value)+1:]\n",
    "print(f_ans)\n",
    "    "
   ]
  },
  {
   "cell_type": "code",
   "execution_count": 44,
   "id": "55d28cfc",
   "metadata": {},
   "outputs": [
    {
     "name": "stdout",
     "output_type": "stream",
     "text": [
      "enter_value: jude\n",
      "['33', '10', 'timothy', 'john']\n"
     ]
    }
   ],
   "source": [
    "input_value = input (\"enter_value: \")\n",
    "array =[\"john\", \"timothy\", 10, 33, \"jude\", \"beauty\"]\n",
    "new_arry =[]\n",
    "for i in array:\n",
    "    b = str(i)\n",
    "    new_arry.append(b)\n",
    "f_ans = new_arry[:new_arry.index(input_value)]\n",
    "f_ans.reverse()\n",
    "print(f_ans)"
   ]
  },
  {
   "cell_type": "code",
   "execution_count": 46,
   "id": "c0407a43",
   "metadata": {},
   "outputs": [
    {
     "name": "stdout",
     "output_type": "stream",
     "text": [
      "enter_value: timothy\n",
      "enter left or right: r\n",
      "['10', '33', 'jude', 'beauty']\n"
     ]
    }
   ],
   "source": [
    "array = [\"john\", \"timothy\",10, 33, \"jude\", \"beauty\"]\n",
    "####################################################\n",
    "input_value = input(\"enter_value: \")\n",
    "pick_from = input(\"enter left or right: \").lower()\n",
    "new_arry = []\n",
    "for i in array:\n",
    "    b = str(i)\n",
    "    new_arry.append(b)\n",
    "    \n",
    "if pick_from == \"l\":\n",
    "    f_ans = new_arry[:new_arry.index(input_value)]\n",
    "    f_ans.reverse()\n",
    "else:\n",
    "    f_ans = new_arry[new_arry.index(input_value)+1:]\n",
    "    print(f_ans)"
   ]
  },
  {
   "cell_type": "code",
   "execution_count": null,
   "id": "ddfa8453",
   "metadata": {},
   "outputs": [],
   "source": [
    "formular + temperature_value + 273\n",
    "only values less than 100"
   ]
  },
  {
   "cell_type": "code",
   "execution_count": 57,
   "id": "9c581876",
   "metadata": {},
   "outputs": [
    {
     "name": "stdout",
     "output_type": "stream",
     "text": [
      "['340k', '317k', '329k', '300k', '341k']\n",
      "['102c', '190c', '101c']\n"
     ]
    }
   ],
   "source": [
    "all_temperatures = []\n",
    "second_arrays = []\n",
    "temperature_value = [102, 67, 44, 190, 56, 27, 101, 68]\n",
    "for i in temperature_value:\n",
    "    if i < 100:\n",
    "        temp = i + 273\n",
    "        a = f\"{temp}k\"\n",
    "        all_temperatures.append(a)\n",
    "    else:\n",
    "        b = f\"{i}c\"\n",
    "        second_arrays.append(b)\n",
    "print(all_temperatures)\n",
    "print(second_arrays)"
   ]
  },
  {
   "cell_type": "code",
   "execution_count": 58,
   "id": "241f64a6",
   "metadata": {},
   "outputs": [
    {
     "name": "stdout",
     "output_type": "stream",
     "text": [
      "['340k', '317k', '329k', '300k', '341k']\n"
     ]
    }
   ],
   "source": [
    "all_temperatures = []\n",
    "temperature_value = [102, 67, 44, 190, 56, 27, 101, 68]\n",
    "for i in temperature_value:\n",
    "    if i < 100:\n",
    "        temp = i + 273\n",
    "        a = f\"{temp}k\"\n",
    "        all_temperatures.append(a)\n",
    "    else:\n",
    "        b = f\"{i}c\"\n",
    "print(all_temperatures)"
   ]
  },
  {
   "cell_type": "code",
   "execution_count": 60,
   "id": "5b7b6646",
   "metadata": {},
   "outputs": [
    {
     "name": "stdout",
     "output_type": "stream",
     "text": [
      "[-5, -10, -15, -20]\n"
     ]
    }
   ],
   "source": [
    "a = [5, 10, 15, 20]\n",
    "b = [10, 20, 30, 40]\n",
    "diff_arry = []\n",
    "\n",
    "if len(a) == len(b):\n",
    "    for i in range(0, len(a)):\n",
    "        diff = a[i] - b[i]\n",
    "        diff_arry.append(diff)\n",
    "else:\n",
    "    print(False)\n",
    "print(diff_arry)"
   ]
  },
  {
   "cell_type": "code",
   "execution_count": 61,
   "id": "e8389b86",
   "metadata": {},
   "outputs": [
    {
     "name": "stdout",
     "output_type": "stream",
     "text": [
      "[5, 10, 15, 20]\n"
     ]
    }
   ],
   "source": [
    "a = [5, 10, 15, 20]\n",
    "b = [10, 20, 30, 40]\n",
    "diff_arry = []\n",
    "\n",
    "if len(a) == len(b):\n",
    "    for i in range(0, len(a)):\n",
    "        diff = b[i] - a[i]\n",
    "        diff_arry.append(diff)\n",
    "else:\n",
    "    print(False)\n",
    "print(diff_arry)"
   ]
  },
  {
   "cell_type": "code",
   "execution_count": 62,
   "id": "4eb5e87e",
   "metadata": {},
   "outputs": [
    {
     "name": "stdout",
     "output_type": "stream",
     "text": [
      "False\n",
      "[]\n"
     ]
    }
   ],
   "source": [
    "a = [5, 10, 15, 20]\n",
    "b = [10, 20, 30, 40, 30]\n",
    "diff_arry = []\n",
    "\n",
    "if len(a) == len(b):\n",
    "    for i in range(0, len(a)):\n",
    "        diff = b[i] - a[i]\n",
    "        diff_arry.append(diff)\n",
    "else:\n",
    "    print(False)\n",
    "print(diff_arry)"
   ]
  },
  {
   "cell_type": "code",
   "execution_count": null,
   "id": "ab09d54d",
   "metadata": {},
   "outputs": [],
   "source": []
  }
 ],
 "metadata": {
  "kernelspec": {
   "display_name": "Python 3 (ipykernel)",
   "language": "python",
   "name": "python3"
  },
  "language_info": {
   "codemirror_mode": {
    "name": "ipython",
    "version": 3
   },
   "file_extension": ".py",
   "mimetype": "text/x-python",
   "name": "python",
   "nbconvert_exporter": "python",
   "pygments_lexer": "ipython3",
   "version": "3.9.12"
  }
 },
 "nbformat": 4,
 "nbformat_minor": 5
}
