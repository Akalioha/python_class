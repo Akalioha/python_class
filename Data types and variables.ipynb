{
 "cells": [
  {
   "cell_type": "code",
   "execution_count": 1,
   "id": "3fb58a65",
   "metadata": {},
   "outputs": [
    {
     "name": "stdout",
     "output_type": "stream",
     "text": [
      "5.5\n"
     ]
    }
   ],
   "source": [
    "print(5.5)"
   ]
  },
  {
   "cell_type": "code",
   "execution_count": 2,
   "id": "d6846483",
   "metadata": {},
   "outputs": [
    {
     "name": "stdout",
     "output_type": "stream",
     "text": [
      "<class 'float'>\n"
     ]
    }
   ],
   "source": [
    "print (type(5.5))"
   ]
  },
  {
   "cell_type": "code",
   "execution_count": 3,
   "id": "17713c78",
   "metadata": {},
   "outputs": [
    {
     "name": "stdout",
     "output_type": "stream",
     "text": [
      "<class 'bool'>\n"
     ]
    }
   ],
   "source": [
    "print(type(False))"
   ]
  },
  {
   "cell_type": "code",
   "execution_count": 4,
   "id": "7b872d58",
   "metadata": {},
   "outputs": [
    {
     "name": "stdout",
     "output_type": "stream",
     "text": [
      "17\n"
     ]
    }
   ],
   "source": [
    "a = 8\n",
    "b = 9\n",
    "print(a+b)"
   ]
  },
  {
   "cell_type": "code",
   "execution_count": 7,
   "id": "969f7d09",
   "metadata": {},
   "outputs": [
    {
     "name": "stdout",
     "output_type": "stream",
     "text": [
      "enter value 1: 5\n",
      "5.0\n"
     ]
    }
   ],
   "source": [
    "print(float(input(\"enter value 1: \")))"
   ]
  },
  {
   "cell_type": "code",
   "execution_count": 8,
   "id": "b11cb427",
   "metadata": {},
   "outputs": [
    {
     "name": "stdout",
     "output_type": "stream",
     "text": [
      "enter value 1: 5\n",
      "enter value 2: 2.5\n",
      "7.5\n"
     ]
    }
   ],
   "source": [
    "print(float(input(\"enter value 1: \")) + float (input(\"enter value 2: \")))"
   ]
  },
  {
   "cell_type": "code",
   "execution_count": 9,
   "id": "683dfcab",
   "metadata": {},
   "outputs": [
    {
     "name": "stdout",
     "output_type": "stream",
     "text": [
      "enter value 1: 2.5\n",
      "enter value 2: 3.4\n",
      "the sum of the values is 5.9\n"
     ]
    }
   ],
   "source": [
    "a_var = float(input(\"enter value 1: \"))\n",
    "b_var = float(input(\"enter value 2: \"))\n",
    "print(f\"the sum of the values is {a_var + b_var}\")"
   ]
  },
  {
   "cell_type": "code",
   "execution_count": 12,
   "id": "4294a05a",
   "metadata": {},
   "outputs": [
    {
     "name": "stdout",
     "output_type": "stream",
     "text": [
      "enter name: peace\n",
      "enter year you were born: 2000\n",
      "************************************************************\n",
      "my name is peace.\n",
      "I was born 22 years ago.\n"
     ]
    }
   ],
   "source": [
    "name = input(\"enter name: \")\n",
    "birth_year = int(input(\"enter year you were born: \"))\n",
    "print(\"*\" * 60)\n",
    "print(f\"\"\"my name is {name}.\n",
    "I was born {2022 - birth_year} years ago.\"\"\")"
   ]
  },
  {
   "cell_type": "code",
   "execution_count": null,
   "id": "0517a9b7",
   "metadata": {},
   "outputs": [],
   "source": []
  }
 ],
 "metadata": {
  "kernelspec": {
   "display_name": "Python 3 (ipykernel)",
   "language": "python",
   "name": "python3"
  },
  "language_info": {
   "codemirror_mode": {
    "name": "ipython",
    "version": 3
   },
   "file_extension": ".py",
   "mimetype": "text/x-python",
   "name": "python",
   "nbconvert_exporter": "python",
   "pygments_lexer": "ipython3",
   "version": "3.9.12"
  }
 },
 "nbformat": 4,
 "nbformat_minor": 5
}
